{
 "cells": [
  {
   "cell_type": "code",
   "execution_count": null,
   "id": "initial_id",
   "metadata": {
    "collapsed": true
   },
   "outputs": [],
   "source": [
    "import warnings\n",
    "warnings.filterwarnings(\"ignore\")\n",
    "\n",
    "import pandas as pd                                                \n",
    "import numpy as np\n",
    "import scanpy as sc\n",
    "import matplotlib.pyplot as plt\n",
    "import os \n",
    "import sys\n",
    "from sklearn.metrics.cluster import adjusted_rand_score\n",
    "from scipy.sparse import issparse\n",
    "\n",
    "from adj import graph\n",
    "from train import train_model\n",
    "from utils import *"
   ]
  },
  {
   "cell_type": "code",
   "execution_count": null,
   "outputs": [],
   "source": [
    "distType_list = ['Radius_balltree','KNN_balltree'] #distType_list\n",
    "\n",
    "for distType in distType_list:\n",
    "    DLPFC_dir = \"data/DLPFC/\"  #your path\n",
    "    section_id = \"151672\"  #DLPFC slice\n",
    "    k = 5  #the number of spatial domain \n",
    "    ann_data = sc.read_visium(os.path.join(DLPFC_dir, section_id),\n",
    "                              count_file=section_id + '_filtered_feature_bc_matrix.h5')\n",
    "    \n",
    "    \n",
    "    train = train_model(path=DLPFC_dir,input_dim=3000,section_id=section_id,cnnType='ResNet50',activate='Relu',weight=0.2,distType=distType,rad_cutoff=250,k_cutoff=12)\n",
    "    ann_data = train.fit(clusterType='Mclust',cluster_n=25)\n",
    "\n",
    "    # load groud truth\n",
    "    ann_df = pd.read_csv(os.path.join(DLPFC_dir, section_id, section_id + \"_truth.txt\"),\n",
    "                         sep=\"\\t\", header=None, index_col=0)\n",
    "    ann_df.columns = [\"Manual annotation\"]\n",
    "    ann_data.obs.loc[:, \"Manual annotation\"] = ann_df.loc[ann_data.obs_names, 'Manual annotation']\n",
    "    ann_data.var_names_make_unique()\n",
    "    print(ann_data)\n",
    "    \n",
    "    from scipy.spatial import distance\n",
    "    '''\n",
    "    \n",
    "    adata = KMeans_P(ann_data, n_clusters=k,use_rep='z')\n",
    "    indices = np.logical_not(ann_data.obs[\"Manual annotation\"].isna())\n",
    "    ground_truth = ann_data.obs[\"Manual annotation\"].dropna()\n",
    "    kmeans_ari = adjusted_rand_score(ann_data.obs['kmeans'][indices], ground_truth[indices])\n",
    "    print(\"ARI: {:.4f}\".format(kmeans_ari))\n",
    "    \n",
    "    adj_2d = distance.cdist(adata.obsm['spatial'], adata.obsm['spatial'], 'euclidean')\n",
    "    refined_pred = refine(sample_id=ann_data.obs.index.tolist(),\n",
    "                          pred=ann_data.obs[\"kmeans\"].tolist(), dis=adj_2d, shape=\"hexagon\")\n",
    "    ann_data.obs[\"kmeans_refine\"] = refined_pred\n",
    "    mclust_refine_ari = adjusted_rand_score(ann_data.obs['kmeans_refine'][indices], ground_truth[indices])\n",
    "    print(\"mclust_refine ari is: {:.4f}\".format(mclust_refine_ari))\n",
    "    mclust_refine_nmi = normalized_mutual_info_score(ann_data.obs['kmeans_refine'][indices], ground_truth[indices])\n",
    "    print(\"mclust_refine nmi is: {:.4f}\".format(mclust_refine_nmi))\n",
    "    mclust_refine_hs = homogeneity_score(ann_data.obs['kmeans_refine'][indices], ground_truth[indices])\n",
    "    print(\"mclust_refine hs is: {:.4f}\".format(mclust_refine_hs))\n",
    "    mclust_refine_purity = purity_score(ann_data.obs['kmeans_refine'][indices], ground_truth[indices])\n",
    "    print(\"mclust_refine purity is: {:.4f}\".format(mclust_refine_purity))\n",
    "    '''\n",
    "    #mclust clustering\n",
    "    adata = mclust_R(ann_data, used_obsm='z', num_cluster=k) \n",
    "    indices = np.logical_not(ann_data.obs[\"Manual annotation\"].isna())\n",
    "    ground_truth = ann_data.obs[\"Manual annotation\"].dropna()\n",
    "    mclust_ari = adjusted_rand_score(ann_data.obs['mclust'][indices], ground_truth[indices])\n",
    "    print(\"mclust ari is: {:.4f}\".format(mclust_ari))\n",
    "    mclust_nmi = normalized_mutual_info_score(ann_data.obs['mclust'][indices], ground_truth[indices])\n",
    "    print(\"mclust nmi is: {:.4f}\".format(mclust_nmi))\n",
    "    mclust_hs = homogeneity_score(ann_data.obs['mclust'][indices], ground_truth[indices])\n",
    "    print(\"mclust hs is: {:.4f}\".format(mclust_hs))\n",
    "    mclust_purity = purity_score(ann_data.obs['mclust'][indices], ground_truth[indices])\n",
    "    print(\"mclust purity is: {:.4f}\".format(mclust_purity))\n",
    "    \n",
    "    \n",
    "    #refine the clustring result\n",
    "    adj_2d = distance.cdist(adata.obsm['spatial'], adata.obsm['spatial'], 'euclidean')\n",
    "    refined_pred = refine(sample_id=ann_data.obs.index.tolist(),\n",
    "                          pred=ann_data.obs[\"mclust\"].tolist(), dis=adj_2d, shape=\"hexagon\")\n",
    "    ann_data.obs[\"mclust_refine\"] = refined_pred\n",
    "    mclust_refine_ari = adjusted_rand_score(ann_data.obs['mclust_refine'][indices], ground_truth[indices])\n",
    "    print(\"mclust_refine ari is: {:.4f}\".format(mclust_refine_ari))\n",
    "    mclust_refine_nmi = normalized_mutual_info_score(ann_data.obs['mclust_refine'][indices], ground_truth[indices])\n",
    "    print(\"mclust_refine nmi is: {:.4f}\".format(mclust_refine_nmi))\n",
    "    mclust_refine_hs = homogeneity_score(ann_data.obs['mclust_refine'][indices], ground_truth[indices])\n",
    "    print(\"mclust_refine hs is: {:.4f}\".format(mclust_refine_hs))\n",
    "    mclust_refine_purity = purity_score(ann_data.obs['mclust_refine'][indices], ground_truth[indices])\n",
    "    print(\"mclust_refine purity is: {:.4f}\".format(mclust_refine_purity))\n",
    "    \n",
    "    #save the result\n",
    "    file = adata.obs['mclust_refine']\n",
    "    np.save(os.path.join(distType,section_id,section_id+'_pred.npy'),file)"
   ],
   "metadata": {
    "collapsed": false
   },
   "id": "e529fcfb2dd08ef3"
  },
  {
   "cell_type": "markdown",
   "source": [
    "#Consensus Clustering"
   ],
   "metadata": {
    "collapsed": false
   },
   "id": "6e74571fa463f2b3"
  },
  {
   "cell_type": "code",
   "execution_count": null,
   "outputs": [],
   "source": [
    "import glob\n",
    "import itertools\n",
    "from typing import List\n",
    "from scipy.spatial import distance\n",
    "from scipy.cluster import hierarchy\n",
    "\n",
    "\n",
    "def labels_connectivity_mat(labels: np.ndarray):\n",
    "    _labels = labels - np.min(labels)\n",
    "    n_classes = np.unique(_labels)\n",
    "    mat = np.zeros([labels.size, labels.size])\n",
    "    for i in n_classes:\n",
    "        indices = np.squeeze(np.where(_labels == i))  #将属于各个类的标签提取出来\n",
    "        row_indices, col_indices = zip(*itertools.product(indices, indices))\n",
    "        mat[row_indices, col_indices] = 1\n",
    "    return mat\n",
    "\n",
    "\n",
    "def consensus_matrix(labels_list: List[np.ndarray]):\n",
    "    mat = 0\n",
    "    for labels in labels_list:\n",
    "        mat += labels_connectivity_mat(labels)\n",
    "    return mat / float(len(labels_list))\n",
    "\n",
    "\n",
    "def plot_consensus_map(cmat, method=\"average\", return_linkage=True, **kwargs):\n",
    "    row_linkage = hierarchy.linkage(distance.pdist(cmat), method=method)\n",
    "    col_linkage = hierarchy.linkage(distance.pdist(cmat.T), method=method)\n",
    "    figure = sns.clustermap(cmat, row_linkage=row_linkage, col_linkage=col_linkage, **kwargs)\n",
    "    if return_linkage:\n",
    "        return row_linkage, col_linkage, figure\n",
    "    else:\n",
    "        return figure\n"
   ],
   "metadata": {
    "collapsed": false
   },
   "id": "fb56defe55ca4e0f"
  },
  {
   "cell_type": "code",
   "execution_count": null,
   "outputs": [],
   "source": [
    "save_dir = 'consensus-clustering/151672' #save dir of consensus clustring result \n",
    "num_cluster = 5 \n",
    "\n",
    "label_files1 = np.load(os.path.join('Radius_balltree',section_id,section_id+'_pred.npy'))\n",
    "label_files2 = np.load(os.path.join('KNN_balltree',section_id,section_id+'_pred.npy'))\n",
    "labels_list = list([label_files1,label_files2])\n",
    "\n",
    "cons_mat = consensus_matrix(labels_list)\n",
    "row_linkage, _, _ = plot_consensus_map(cons_mat, return_linkage=True)  # 获取层次聚类结果和热度图\n",
    "#figure.savefig(os.path.join(save_dir, \"consensus_clustering.png\"), dpi=300)  # 保存图片\n",
    "consensus_labels = hierarchy.cut_tree(row_linkage, num_cluster).squeeze()  # 得到y*\n",
    "np.save(os.path.join(save_dir, \"consensus_labels\"), consensus_labels)"
   ],
   "metadata": {
    "collapsed": false
   },
   "id": "e50e6eecbd892d79"
  },
  {
   "cell_type": "code",
   "execution_count": null,
   "outputs": [],
   "source": [
    "DLPFC_dir = \"data/DLPFC/\"\n",
    "section_id = \"151672\"\n",
    "ann_data = sc.read_visium(os.path.join(DLPFC_dir, section_id),\n",
    "                          count_file=section_id + '_filtered_feature_bc_matrix.h5')\n",
    "# load groud truth\n",
    "ann_df = pd.read_csv(os.path.join(DLPFC_dir, section_id, section_id + \"_truth.txt\"),\n",
    "                     sep=\"\\t\", header=None, index_col=0)\n",
    "ann_df.columns = [\"Manual annotation\"]\n",
    "ann_data.obs.loc[:, \"Manual annotation\"] = ann_df.loc[ann_data.obs_names, 'Manual annotation']\n",
    "ann_data.var_names_make_unique()\n",
    "print(adata)\n",
    " \n",
    "#consensus clustering result\n",
    "pred = np.load('consensus-clustering/151672/consensus_labels.npy')\n",
    "ann_data.obs['consensus_label'] = pred\n",
    "indices = np.logical_not(ann_data.obs[\"Manual annotation\"].isna())\n",
    "ground_truth = ann_data.obs[\"Manual annotation\"].dropna()\n",
    "ari = adjusted_rand_score(pred[indices], ground_truth[indices])\n",
    "print(\"ari is: {:.4f}\".format(ari))\n",
    "nmi = normalized_mutual_info_score(pred[indices], ground_truth[indices])\n",
    "print(\"nmi is: {:.4f}\".format(nmi))\n",
    "hs = homogeneity_score(pred[indices], ground_truth[indices])\n",
    "print(\"hs is: {:.4f}\".format(hs))\n",
    "purity = purity_score(pred[indices], ground_truth[indices])\n",
    "print(\"purity is: {:.4f}\".format(purity))"
   ],
   "metadata": {
    "collapsed": false
   },
   "id": "ef363528ab43e580"
  },
  {
   "cell_type": "markdown",
   "source": [
    "#SVGs Identification"
   ],
   "metadata": {
    "collapsed": false
   },
   "id": "3ccaffb95d93b3b2"
  },
  {
   "cell_type": "code",
   "execution_count": null,
   "outputs": [],
   "source": [
    "import SpaGCN as spg\n",
    "import matplotlib.colors as clr\n",
    "\n",
    "raw = sc.read_visium(os.path.join(DLPFC_dir, section_id),\n",
    "                          count_file=section_id + '_filtered_feature_bc_matrix.h5')\n",
    "raw.var_names_make_unique()\n",
    "raw.obs[\"pred\"]=ann_data.obs[\"consensus_label\"].astype('category')\n",
    "raw.obs[\"x_array\"]=raw.obs[\"array_row\"]\n",
    "raw.obs[\"y_array\"]=raw.obs[\"array_col\"]\n",
    "raw.obs[\"x_pixel\"] = raw.obsm['spatial'][:,0]\n",
    "raw.obs[\"y_pixel\"] = raw.obsm['spatial'][:,1]\n",
    "x_array = raw.obs[\"x_array\"].tolist()\n",
    "y_array = raw.obs[\"y_array\"].tolist()\n",
    "x_pixel = raw.obs[\"x_pixel\"].tolist()\n",
    "y_pixel = raw.obs[\"y_pixel\"].tolist()\n",
    "raw.X = (raw.X.A if issparse(raw.X) else raw.X)\n",
    "raw.raw = raw\n",
    "sc.pp.log1p(raw)"
   ],
   "metadata": {
    "collapsed": false
   },
   "id": "b9e64e3916fedda0"
  },
  {
   "cell_type": "code",
   "execution_count": null,
   "outputs": [],
   "source": [
    "#Use domain 0 as an example\n",
    "target=1\n",
    "#Set filtering criterials\n",
    "min_in_group_fraction=0.8\n",
    "min_in_out_group_ratio=1\n",
    "min_fold_change=1\n",
    "#Search radius such that each spot in the target domain has approximately 10 neighbors on average\n",
    "adj_2d=spg.calculate_adj_matrix(x=x_array, y=y_array, histology=False)\n",
    "start, end= np.quantile(adj_2d[adj_2d!=0],q=0.001), np.quantile(adj_2d[adj_2d!=0],q=0.1)\n",
    "r=spg.search_radius(target_cluster=target, cell_id=ann_data.obs.index.tolist(), x=x_array, y=y_array, pred=ann_data.obs[\"consensus_label\"].tolist(), start=start, end=end, num_min=10, num_max=200,  max_run=100)\n",
    "#Detect neighboring domains\n",
    "nbr_domians=spg.find_neighbor_clusters(target_cluster=target,\n",
    "                                   cell_id=raw.obs.index.tolist(), \n",
    "                                   x=raw.obs[\"x_array\"].tolist(), \n",
    "                                   y=raw.obs[\"y_array\"].tolist(), \n",
    "                                   pred=raw.obs[\"pred\"].tolist(),\n",
    "                                   radius=r,\n",
    "                                   ratio=1/2)\n",
    "nbr_domians=nbr_domians[0:3]\n",
    "de_genes_info=spg.rank_genes_groups(input_adata=raw,\n",
    "                                target_cluster=target,\n",
    "                                nbr_list=nbr_domians, \n",
    "                                label_col=\"pred\", \n",
    "                                adj_nbr=True, \n",
    "                                log=True)\n",
    "#Filter genes\n",
    "de_genes_info=de_genes_info[(de_genes_info[\"pvals_adj\"]<0.05)]\n",
    "filtered_info=de_genes_info\n",
    "filtered_info=filtered_info[(filtered_info[\"pvals_adj\"]<0.05) &\n",
    "                            (filtered_info[\"in_out_group_ratio\"]>min_in_out_group_ratio) &\n",
    "                            (filtered_info[\"in_group_fraction\"]>min_in_group_fraction) &\n",
    "                            (filtered_info[\"fold_change\"]>min_fold_change)]\n",
    "filtered_info=filtered_info.sort_values(by=\"in_group_fraction\", ascending=False)\n",
    "filtered_info[\"target_dmain\"]=target\n",
    "filtered_info[\"neighbors\"]=str(nbr_domians)\n",
    "print(\"SVGs for domain \", str(target),\":\", filtered_info[\"genes\"].tolist())"
   ],
   "metadata": {
    "collapsed": false
   },
   "id": "b733f3424794b2a4"
  },
  {
   "cell_type": "code",
   "execution_count": null,
   "outputs": [],
   "source": [
    "gene_list = ['ENC1']\n",
    "\n",
    "color_self = clr.LinearSegmentedColormap.from_list('pink_green', ['#3AB370',\"#EAE7CC\",\"#FD1593\"], N=256)\n",
    "for g in gene_list:\n",
    "#for g in filtered_info[\"genes\"].tolist():\n",
    "    raw.obs[\"exp\"]=raw.X[:,raw.var.index==g]\n",
    "    sc.pl.spatial(raw, img_key=\"hires\",\n",
    "              color=\"exp\",\n",
    "              title=g,\n",
    "              color_map=color_self)"
   ],
   "metadata": {
    "collapsed": false
   },
   "id": "e76c4fd83db5e5ec"
  },
  {
   "cell_type": "code",
   "execution_count": null,
   "outputs": [],
   "source": [
    "target=1\n",
    "meta_name, meta_exp=spg.find_meta_gene(input_adata=raw,\n",
    "                    pred=raw.obs[\"pred\"].tolist(),\n",
    "                    target_domain=target,\n",
    "                    start_gene=\"ENC1\",\n",
    "                    mean_diff=0,\n",
    "                    early_stop=True,\n",
    "                    max_iter=3,\n",
    "                    use_raw=False)\n",
    "\n",
    "raw.obs[\"meta\"]=meta_exp\n",
    "\n",
    "raw.obs[\"exp\"]=raw.obs[\"meta\"]\n",
    "sc.pl.spatial(raw, img_key=\"hires\",\n",
    "              color=\"exp\",\n",
    "              title='meta',\n",
    "              color_map=color_self)"
   ],
   "metadata": {
    "collapsed": false
   },
   "id": "c26b407f00afd083"
  },
  {
   "cell_type": "code",
   "execution_count": null,
   "outputs": [],
   "source": [],
   "metadata": {
    "collapsed": false
   },
   "id": "d0c0add7014c7709"
  }
 ],
 "metadata": {
  "kernelspec": {
   "display_name": "Python 3",
   "language": "python",
   "name": "python3"
  },
  "language_info": {
   "codemirror_mode": {
    "name": "ipython",
    "version": 2
   },
   "file_extension": ".py",
   "mimetype": "text/x-python",
   "name": "python",
   "nbconvert_exporter": "python",
   "pygments_lexer": "ipython2",
   "version": "2.7.6"
  }
 },
 "nbformat": 4,
 "nbformat_minor": 5
}
